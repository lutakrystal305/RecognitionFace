{
  "nbformat": 4,
  "nbformat_minor": 0,
  "metadata": {
    "colab": {
      "name": "Recognition_VGG.ipynb",
      "provenance": [],
      "authorship_tag": "ABX9TyNzSfciQ34NG14gFJJvp3CS",
      "include_colab_link": true
    },
    "kernelspec": {
      "name": "python3",
      "display_name": "Python 3"
    },
    "language_info": {
      "name": "python"
    },
    "accelerator": "GPU"
  },
  "cells": [
    {
      "cell_type": "markdown",
      "metadata": {
        "id": "view-in-github",
        "colab_type": "text"
      },
      "source": [
        "<a href=\"https://colab.research.google.com/github/lutakrystal305/RecognitionFace/blob/main/Recognition_VGG.ipynb\" target=\"_parent\"><img src=\"https://colab.research.google.com/assets/colab-badge.svg\" alt=\"Open In Colab\"/></a>"
      ]
    },
    {
      "cell_type": "code",
      "metadata": {
        "colab": {
          "base_uri": "https://localhost:8080/"
        },
        "id": "px_X1sAA9EVU",
        "outputId": "c13781b7-14ca-4f8e-e6e9-c850631aa54c"
      },
      "source": [
        "from google.colab import drive\n",
        "import os\n",
        "\n",
        "drive.mount(\"/content/gdrive\")\n",
        "path = \"/content/gdrive/My Drive/FaceRecognition\"\n",
        "os.chdir(path)\n",
        "!ls"
      ],
      "execution_count": null,
      "outputs": [
        {
          "output_type": "stream",
          "text": [
            "Mounted at /content/gdrive\n"
          ],
          "name": "stdout"
        }
      ]
    },
    {
      "cell_type": "code",
      "metadata": {
        "id": "UeLLfOK195RF"
      },
      "source": [
        "!pip install face_recognition"
      ],
      "execution_count": null,
      "outputs": []
    },
    {
      "cell_type": "code",
      "metadata": {
        "colab": {
          "base_uri": "https://localhost:8080/"
        },
        "id": "Fl9Iwotj99Co",
        "outputId": "8d52838c-08e9-4979-cf12-3959832d825c"
      },
      "source": [
        "!git clone https://github.com/phamdinhkhanh/FacenetDataset.git ./Dataset"
      ],
      "execution_count": null,
      "outputs": [
        {
          "output_type": "stream",
          "text": [
            "Cloning into './Dataset'...\n",
            "remote: Enumerating objects: 167, done.\u001b[K\n",
            "remote: Counting objects: 100% (167/167), done.\u001b[K\n",
            "remote: Compressing objects: 100% (166/166), done.\u001b[K\n",
            "remote: Total 167 (delta 6), reused 161 (delta 0), pack-reused 0\u001b[K\n",
            "Receiving objects: 100% (167/167), 28.37 MiB | 11.14 MiB/s, done.\n",
            "Resolving deltas: 100% (6/6), done.\n",
            "Checking out files: 100% (155/155), done.\n"
          ],
          "name": "stdout"
        }
      ]
    },
    {
      "cell_type": "code",
      "metadata": {
        "id": "yXkoqT1M-q99"
      },
      "source": [
        "#convert ảnh blod\n",
        "def blod_img(img, out_size=(300,300), scaleFactor=1.0, mean=(104, 177, 123)):\n",
        "  #img:anh dau vao\n",
        "  #out_size: kich thuoc anh dau ra\n",
        "  #scaleFactor: scale anh\n",
        "  imgBlod = cv2.dnn.blodFromImage(img,\n",
        "                                  scaleFactor= ScaleFactor,\n",
        "                                  size = out_size,\n",
        "                                  mean = mean,\n",
        "                                  swapRB = False,\n",
        "                                  crop = False\n",
        "                                  )\n",
        "  return imgBlod"
      ],
      "execution_count": null,
      "outputs": []
    },
    {
      "cell_type": "code",
      "metadata": {
        "id": "fp_HP84v_nky"
      },
      "source": [
        "#trich xuat khuon mat\n",
        "from face_recognition import face_locations\n",
        "import cv2\n",
        "\n",
        "\n",
        "IMG_TEST = os.path.join(path, \"Dataset/khanh/001.jpg\")\n",
        "\n",
        "def _img_read(image_path):\n",
        "  img = cv2.imread(image_path)\n",
        "  img = cv2.cvtColor(img, cv2.COLOR_BGR2RGB)\n",
        "  return img\n",
        "\n",
        "img = _img_read(IMG_TEST)\n",
        "\n",
        "def extract_bbox(img, single = True):\n",
        "  #trich xuat cac bounding box chua mat\n",
        "  #img: anh input (RGB)\n",
        "  #single: Lay ra 1 face tren 1 anh neu True >< False\n",
        "  bboxs = face_locations(img)\n",
        "  if len(bboxs) == 0 :\n",
        "    return None\n",
        "  if single:\n",
        "    bbox = bboxs[0]\n",
        "    return bbox\n",
        "  else:\n",
        "    return bboxs \n",
        "    #bbox: (start_y, tart_x, end_y, end_x)"
      ],
      "execution_count": null,
      "outputs": []
    },
    {
      "cell_type": "code",
      "metadata": {
        "id": "-r0wAGGfCe4r"
      },
      "source": [
        "from google.colab.patches import cv2_imshow\n",
        "\n",
        "def extract_face(img, bbox, face_scale_thres = (20, 20)):\n",
        "  #img: anh dau vao RGB\n",
        "  #bbox: toa do bbox\n",
        "  #face_scale_thres: ngưỡng kích thước (h, w) của face. Nếu nhỏ hơn ngưỡng này thì loại bỏ face\n",
        "  h, w = img.shape[:2]\n",
        "  try:\n",
        "    (startY, startX, endY, endX) = bbox\n",
        "  except:\n",
        "    return None\n",
        "  minX, maxX = min(startX, endX), max(startX, endX)\n",
        "  minY, maxY = min(startY, endY), max(startY, endY)\n",
        "  face = img[minY:maxY, minX:maxX].copy()\n",
        "  #h, w face\n",
        "  (fH, fW) = face.shape[:2]\n",
        "\n",
        "  #dam bao face H, W lon hon ngưỡng\n",
        "  if fW < face_scale_thres[0] or fH < face_scale_thres[1]:\n",
        "    return None\n",
        "  else:\n",
        "    return face\n",
        "bbox = extract_bbox(img)\n",
        "face = extract_face(img, bbox)\n",
        "cv2_imshow(face)"
      ],
      "execution_count": null,
      "outputs": []
    },
    {
      "cell_type": "code",
      "metadata": {
        "colab": {
          "base_uri": "https://localhost:8080/"
        },
        "id": "NbrHvIrbCSOE",
        "outputId": "2820bc4e-12dc-4a6e-fcdb-76297640caa5"
      },
      "source": [
        "from imutils import paths\n",
        "DATASET_PATH = \"./Dataset\"\n",
        "\n",
        "def model_processing(face_scale_thres = (20, 20)):\n",
        "  img_links = list(paths.list_images(DATASET_PATH))\n",
        "  #print(img_links)\n",
        "  img_file = []\n",
        "  y_labels = []\n",
        "  faces = []\n",
        "  total = 0\n",
        "  for img_link in img_links:\n",
        "    split_img_link = img_link.split(\"/\")\n",
        "    #Get label\n",
        "    name = split_img_link[-2]\n",
        "    #Read img\n",
        "    img = img_read(img_link)\n",
        "    (h, w) = img.shape[:2]\n",
        "    #Detect vị trí các khuôn mặt trên ảnh (giả sử mỗi ảnh chỉ có duy nhất 1 bouding box)\n",
        "    bbox = extract_bbox(img)\n",
        "    if bbox is not None:\n",
        "      face = extract_face(img, bbox)\n",
        "    if face is not None:\n",
        "      faces.append(face)\n",
        "      y_labels.append(name)\n",
        "      img_file.append(img_link)\n",
        "      total += 1\n",
        "    else:\n",
        "      next\n",
        "  print(\"Total bbox face extracted: {}\".format(total))\n",
        "  return faces, y_labels, img_file\n",
        "faces, y_labels, img_file = model_processing()"
      ],
      "execution_count": null,
      "outputs": [
        {
          "output_type": "stream",
          "text": [
            "Total bbox face extracted: 150\n"
          ],
          "name": "stdout"
        }
      ]
    },
    {
      "cell_type": "code",
      "metadata": {
        "id": "SORjDfcZKYqZ"
      },
      "source": [
        "import pickle\n",
        "\n",
        "def save_pickle(obj, path):\n",
        "  with open(path, 'wb') as f:\n",
        "    pickle.dump(obj, f)\n",
        "\n",
        "def load_pickle(path):\n",
        "  with open(path, 'rb') as f:\n",
        "    obj = pickle.load(f)\n",
        "  return obj \n",
        "\n",
        "save_pickle(faces, './faces.pkl')\n",
        "save_pickle(y_labels, './y_labels.pkl')\n",
        "save_pickle(img_file, \"./images_file.pkl\")"
      ],
      "execution_count": null,
      "outputs": []
    },
    {
      "cell_type": "code",
      "metadata": {
        "id": "608Pdll-dHZT"
      },
      "source": [
        "%tensorflow_version 2.x"
      ],
      "execution_count": null,
      "outputs": []
    },
    {
      "cell_type": "code",
      "metadata": {
        "colab": {
          "base_uri": "https://localhost:8080/"
        },
        "id": "iom9fMedXui8",
        "outputId": "1e752b00-afcb-4ea9-9d52-1e4689d85696"
      },
      "source": [
        "# train basenetwork triplet loss\n",
        "import tensorflow as tf\n",
        "from tensorflow.keras.layers import Dense, Flatten, Lambda\n",
        "from tensorflow.keras.models import Model\n",
        "from tensorflow.keras.optimizers import Adam\n",
        "from tensorflow.keras.applications import VGG16\n",
        "\n",
        "def base_network():\n",
        "  model = VGG16(include_top = True, weights = None)\n",
        "  dense = Dense(128)(model.layers[-4].output)\n",
        "  norm2 = Lambda(lambda x: tf.math.l2_normalize(x, axis = 1))(dense)\n",
        "  model = Model(inputs = [model.input], outputs = [norm2])\n",
        "  return model\n",
        "\n",
        "model = base_network()\n",
        "model.summary()"
      ],
      "execution_count": null,
      "outputs": [
        {
          "output_type": "stream",
          "text": [
            "Model: \"model_3\"\n",
            "_________________________________________________________________\n",
            "Layer (type)                 Output Shape              Param #   \n",
            "=================================================================\n",
            "input_4 (InputLayer)         [(None, 224, 224, 3)]     0         \n",
            "_________________________________________________________________\n",
            "block1_conv1 (Conv2D)        (None, 224, 224, 64)      1792      \n",
            "_________________________________________________________________\n",
            "block1_conv2 (Conv2D)        (None, 224, 224, 64)      36928     \n",
            "_________________________________________________________________\n",
            "block1_pool (MaxPooling2D)   (None, 112, 112, 64)      0         \n",
            "_________________________________________________________________\n",
            "block2_conv1 (Conv2D)        (None, 112, 112, 128)     73856     \n",
            "_________________________________________________________________\n",
            "block2_conv2 (Conv2D)        (None, 112, 112, 128)     147584    \n",
            "_________________________________________________________________\n",
            "block2_pool (MaxPooling2D)   (None, 56, 56, 128)       0         \n",
            "_________________________________________________________________\n",
            "block3_conv1 (Conv2D)        (None, 56, 56, 256)       295168    \n",
            "_________________________________________________________________\n",
            "block3_conv2 (Conv2D)        (None, 56, 56, 256)       590080    \n",
            "_________________________________________________________________\n",
            "block3_conv3 (Conv2D)        (None, 56, 56, 256)       590080    \n",
            "_________________________________________________________________\n",
            "block3_pool (MaxPooling2D)   (None, 28, 28, 256)       0         \n",
            "_________________________________________________________________\n",
            "block4_conv1 (Conv2D)        (None, 28, 28, 512)       1180160   \n",
            "_________________________________________________________________\n",
            "block4_conv2 (Conv2D)        (None, 28, 28, 512)       2359808   \n",
            "_________________________________________________________________\n",
            "block4_conv3 (Conv2D)        (None, 28, 28, 512)       2359808   \n",
            "_________________________________________________________________\n",
            "block4_pool (MaxPooling2D)   (None, 14, 14, 512)       0         \n",
            "_________________________________________________________________\n",
            "block5_conv1 (Conv2D)        (None, 14, 14, 512)       2359808   \n",
            "_________________________________________________________________\n",
            "block5_conv2 (Conv2D)        (None, 14, 14, 512)       2359808   \n",
            "_________________________________________________________________\n",
            "block5_conv3 (Conv2D)        (None, 14, 14, 512)       2359808   \n",
            "_________________________________________________________________\n",
            "block5_pool (MaxPooling2D)   (None, 7, 7, 512)         0         \n",
            "_________________________________________________________________\n",
            "flatten (Flatten)            (None, 25088)             0         \n",
            "_________________________________________________________________\n",
            "dense_3 (Dense)              (None, 128)               3211392   \n",
            "_________________________________________________________________\n",
            "lambda_3 (Lambda)            (None, 128)               0         \n",
            "=================================================================\n",
            "Total params: 17,926,080\n",
            "Trainable params: 17,926,080\n",
            "Non-trainable params: 0\n",
            "_________________________________________________________________\n"
          ],
          "name": "stdout"
        }
      ]
    },
    {
      "cell_type": "code",
      "metadata": {
        "id": "xvwPq845ZdSq"
      },
      "source": [
        "faces = load_pickle('./faces.pkl')"
      ],
      "execution_count": null,
      "outputs": []
    },
    {
      "cell_type": "code",
      "metadata": {
        "colab": {
          "base_uri": "https://localhost:8080/"
        },
        "id": "3TER_x6AZiIf",
        "outputId": "ea24678b-d1d7-4f00-fc68-463c34e433f3"
      },
      "source": [
        "import cv2\n",
        "\n",
        "faceResizes = []\n",
        "for face in faces:\n",
        "  face_rz = cv2.resize(face, (224, 224))\n",
        "  faceResizes.append(face_rz)\n",
        "X = np.stack(faceResizes)\n",
        "X.shape"
      ],
      "execution_count": null,
      "outputs": [
        {
          "output_type": "execute_result",
          "data": {
            "text/plain": [
              "(150, 224, 224, 3)"
            ]
          },
          "metadata": {
            "tags": []
          },
          "execution_count": 80
        }
      ]
    },
    {
      "cell_type": "code",
      "metadata": {
        "colab": {
          "base_uri": "https://localhost:8080/"
        },
        "id": "wnRAdxKva9X6",
        "outputId": "52a57d90-dadb-44bd-91dd-145a2bbec852"
      },
      "source": [
        "from sklearn.model_selection import train_test_split\n",
        "ids = np.arange(len(y_labels))\n",
        "\n",
        "X_train, X_test, y_train, y_test, id_train, id_test = train_test_split(X, y_labels, ids, test_size = 0.2, stratify = y_labels)\n",
        "print(X_train.shape, X_test.shape)\n",
        "print(len(y_train), len(y_test))"
      ],
      "execution_count": null,
      "outputs": [
        {
          "output_type": "stream",
          "text": [
            "(120, 224, 224, 3) (30, 224, 224, 3)\n",
            "120 30\n"
          ],
          "name": "stdout"
        }
      ]
    },
    {
      "cell_type": "code",
      "metadata": {
        "id": "zxDV0Yb8Z8bk"
      },
      "source": [
        "#pass\n",
        "id_train = _load_pickle(\"./id_train.pkl\")\n",
        "id_test = _load_pickle(\"./id_test.pkl\")\n",
        "\n",
        "X_train, X_test = X[id_train], X[id_test]\n",
        "\n",
        "print(X_train.shape)\n",
        "print(X_test.shape)"
      ],
      "execution_count": null,
      "outputs": []
    },
    {
      "cell_type": "code",
      "metadata": {
        "colab": {
          "base_uri": "https://localhost:8080/"
        },
        "id": "SepeYNuKeZO3",
        "outputId": "ee2713b8-6eb8-4dc6-bd6d-c058883c8614"
      },
      "source": [
        "!pip install tensorflow-addons"
      ],
      "execution_count": null,
      "outputs": [
        {
          "output_type": "stream",
          "text": [
            "Collecting tensorflow-addons\n",
            "\u001b[?25l  Downloading https://files.pythonhosted.org/packages/66/4b/e893d194e626c24b3df2253066aa418f46a432fdb68250cde14bf9bb0700/tensorflow_addons-0.13.0-cp37-cp37m-manylinux2010_x86_64.whl (679kB)\n",
            "\r\u001b[K     |▌                               | 10kB 15.4MB/s eta 0:00:01\r\u001b[K     |█                               | 20kB 19.5MB/s eta 0:00:01\r\u001b[K     |█▌                              | 30kB 22.7MB/s eta 0:00:01\r\u001b[K     |██                              | 40kB 19.8MB/s eta 0:00:01\r\u001b[K     |██▍                             | 51kB 11.7MB/s eta 0:00:01\r\u001b[K     |███                             | 61kB 10.7MB/s eta 0:00:01\r\u001b[K     |███▍                            | 71kB 10.0MB/s eta 0:00:01\r\u001b[K     |███▉                            | 81kB 10.9MB/s eta 0:00:01\r\u001b[K     |████▍                           | 92kB 11.4MB/s eta 0:00:01\r\u001b[K     |████▉                           | 102kB 11.1MB/s eta 0:00:01\r\u001b[K     |█████▎                          | 112kB 11.1MB/s eta 0:00:01\r\u001b[K     |█████▉                          | 122kB 11.1MB/s eta 0:00:01\r\u001b[K     |██████▎                         | 133kB 11.1MB/s eta 0:00:01\r\u001b[K     |██████▊                         | 143kB 11.1MB/s eta 0:00:01\r\u001b[K     |███████▎                        | 153kB 11.1MB/s eta 0:00:01\r\u001b[K     |███████▊                        | 163kB 11.1MB/s eta 0:00:01\r\u001b[K     |████████▏                       | 174kB 11.1MB/s eta 0:00:01\r\u001b[K     |████████▊                       | 184kB 11.1MB/s eta 0:00:01\r\u001b[K     |█████████▏                      | 194kB 11.1MB/s eta 0:00:01\r\u001b[K     |█████████▋                      | 204kB 11.1MB/s eta 0:00:01\r\u001b[K     |██████████▏                     | 215kB 11.1MB/s eta 0:00:01\r\u001b[K     |██████████▋                     | 225kB 11.1MB/s eta 0:00:01\r\u001b[K     |███████████                     | 235kB 11.1MB/s eta 0:00:01\r\u001b[K     |███████████▋                    | 245kB 11.1MB/s eta 0:00:01\r\u001b[K     |████████████                    | 256kB 11.1MB/s eta 0:00:01\r\u001b[K     |████████████▌                   | 266kB 11.1MB/s eta 0:00:01\r\u001b[K     |█████████████                   | 276kB 11.1MB/s eta 0:00:01\r\u001b[K     |█████████████▌                  | 286kB 11.1MB/s eta 0:00:01\r\u001b[K     |██████████████                  | 296kB 11.1MB/s eta 0:00:01\r\u001b[K     |██████████████▌                 | 307kB 11.1MB/s eta 0:00:01\r\u001b[K     |███████████████                 | 317kB 11.1MB/s eta 0:00:01\r\u001b[K     |███████████████▍                | 327kB 11.1MB/s eta 0:00:01\r\u001b[K     |████████████████                | 337kB 11.1MB/s eta 0:00:01\r\u001b[K     |████████████████▍               | 348kB 11.1MB/s eta 0:00:01\r\u001b[K     |████████████████▉               | 358kB 11.1MB/s eta 0:00:01\r\u001b[K     |█████████████████▍              | 368kB 11.1MB/s eta 0:00:01\r\u001b[K     |█████████████████▉              | 378kB 11.1MB/s eta 0:00:01\r\u001b[K     |██████████████████▎             | 389kB 11.1MB/s eta 0:00:01\r\u001b[K     |██████████████████▉             | 399kB 11.1MB/s eta 0:00:01\r\u001b[K     |███████████████████▎            | 409kB 11.1MB/s eta 0:00:01\r\u001b[K     |███████████████████▊            | 419kB 11.1MB/s eta 0:00:01\r\u001b[K     |████████████████████▎           | 430kB 11.1MB/s eta 0:00:01\r\u001b[K     |████████████████████▊           | 440kB 11.1MB/s eta 0:00:01\r\u001b[K     |█████████████████████▏          | 450kB 11.1MB/s eta 0:00:01\r\u001b[K     |█████████████████████▊          | 460kB 11.1MB/s eta 0:00:01\r\u001b[K     |██████████████████████▏         | 471kB 11.1MB/s eta 0:00:01\r\u001b[K     |██████████████████████▋         | 481kB 11.1MB/s eta 0:00:01\r\u001b[K     |███████████████████████▏        | 491kB 11.1MB/s eta 0:00:01\r\u001b[K     |███████████████████████▋        | 501kB 11.1MB/s eta 0:00:01\r\u001b[K     |████████████████████████        | 512kB 11.1MB/s eta 0:00:01\r\u001b[K     |████████████████████████▋       | 522kB 11.1MB/s eta 0:00:01\r\u001b[K     |█████████████████████████       | 532kB 11.1MB/s eta 0:00:01\r\u001b[K     |█████████████████████████▌      | 542kB 11.1MB/s eta 0:00:01\r\u001b[K     |██████████████████████████      | 552kB 11.1MB/s eta 0:00:01\r\u001b[K     |██████████████████████████▌     | 563kB 11.1MB/s eta 0:00:01\r\u001b[K     |███████████████████████████     | 573kB 11.1MB/s eta 0:00:01\r\u001b[K     |███████████████████████████▌    | 583kB 11.1MB/s eta 0:00:01\r\u001b[K     |████████████████████████████    | 593kB 11.1MB/s eta 0:00:01\r\u001b[K     |████████████████████████████▍   | 604kB 11.1MB/s eta 0:00:01\r\u001b[K     |█████████████████████████████   | 614kB 11.1MB/s eta 0:00:01\r\u001b[K     |█████████████████████████████▍  | 624kB 11.1MB/s eta 0:00:01\r\u001b[K     |█████████████████████████████▉  | 634kB 11.1MB/s eta 0:00:01\r\u001b[K     |██████████████████████████████▍ | 645kB 11.1MB/s eta 0:00:01\r\u001b[K     |██████████████████████████████▉ | 655kB 11.1MB/s eta 0:00:01\r\u001b[K     |███████████████████████████████▎| 665kB 11.1MB/s eta 0:00:01\r\u001b[K     |███████████████████████████████▉| 675kB 11.1MB/s eta 0:00:01\r\u001b[K     |████████████████████████████████| 686kB 11.1MB/s \n",
            "\u001b[?25hRequirement already satisfied: typeguard>=2.7 in /usr/local/lib/python3.7/dist-packages (from tensorflow-addons) (2.7.1)\n",
            "Installing collected packages: tensorflow-addons\n",
            "Successfully installed tensorflow-addons-0.13.0\n"
          ],
          "name": "stdout"
        }
      ]
    },
    {
      "cell_type": "code",
      "metadata": {
        "id": "dr9xI_Q0cqzC"
      },
      "source": [
        "import tensorflow_addons as tfa\n",
        "\n",
        "model.compile(\n",
        "    optimizer=tf.keras.optimizers.Adam(0.001),\n",
        "    loss=tfa.losses.TripletSemiHardLoss())"
      ],
      "execution_count": null,
      "outputs": []
    },
    {
      "cell_type": "code",
      "metadata": {
        "colab": {
          "base_uri": "https://localhost:8080/"
        },
        "id": "S3lzwhozei8Z",
        "outputId": "a411d01a-6931-4376-9194-6a998180d059"
      },
      "source": [
        "gen_train = tf.data.Dataset.from_tensor_slices((X_train, y_train)).repeat().shuffle(1024).batch(32)\n",
        "gen_train"
      ],
      "execution_count": null,
      "outputs": [
        {
          "output_type": "execute_result",
          "data": {
            "text/plain": [
              "<BatchDataset shapes: ((None, 224, 224, 3), (None,)), types: (tf.uint8, tf.string)>"
            ]
          },
          "metadata": {
            "tags": []
          },
          "execution_count": 88
        }
      ]
    },
    {
      "cell_type": "code",
      "metadata": {
        "colab": {
          "base_uri": "https://localhost:8080/"
        },
        "id": "Bou_ZFjDe_Z1",
        "outputId": "2d828d47-c477-4d15-d3af-eb076de2399e"
      },
      "source": [
        "history = model.fit(\n",
        "    gen_train, \n",
        "    steps_per_epoch = 50,\n",
        "    epochs = 10\n",
        ")"
      ],
      "execution_count": null,
      "outputs": [
        {
          "output_type": "stream",
          "text": [
            "Epoch 1/10\n",
            "50/50 [==============================] - 85s 786ms/step - loss: 0.9823\n",
            "Epoch 2/10\n",
            "50/50 [==============================] - 39s 778ms/step - loss: 0.9724\n",
            "Epoch 3/10\n",
            "50/50 [==============================] - 39s 773ms/step - loss: 0.9744\n",
            "Epoch 4/10\n",
            "50/50 [==============================] - 39s 773ms/step - loss: 0.8994\n",
            "Epoch 5/10\n",
            "50/50 [==============================] - 39s 771ms/step - loss: 0.7993\n",
            "Epoch 6/10\n",
            "50/50 [==============================] - 39s 771ms/step - loss: 0.5735\n",
            "Epoch 7/10\n",
            "50/50 [==============================] - 39s 770ms/step - loss: 0.3092\n",
            "Epoch 8/10\n",
            "50/50 [==============================] - 38s 768ms/step - loss: 0.0883\n",
            "Epoch 9/10\n",
            "50/50 [==============================] - 38s 760ms/step - loss: 0.0212\n",
            "Epoch 10/10\n",
            "50/50 [==============================] - 38s 753ms/step - loss: 1.5383e-04\n"
          ],
          "name": "stdout"
        }
      ]
    },
    {
      "cell_type": "code",
      "metadata": {
        "id": "yjce3kcrg1ch"
      },
      "source": [
        "model.save(\"model/model_triplot.h5\")"
      ],
      "execution_count": null,
      "outputs": []
    },
    {
      "cell_type": "code",
      "metadata": {
        "id": "D8fbRZOAg8Og"
      },
      "source": [
        "X_train_vecs = model.predict(np.expand_dims(X_train, axis = -1))\n",
        "X_test_vecs = model.predict(np.expand_dims(X_test, axis = -1))"
      ],
      "execution_count": null,
      "outputs": []
    },
    {
      "cell_type": "code",
      "metadata": {
        "colab": {
          "base_uri": "https://localhost:8080/"
        },
        "id": "F5hqlJtphAiK",
        "outputId": "96219bed-24b8-4df0-8cad-10ffc327b28a"
      },
      "source": [
        "print(X_train_vecs)\n",
        "print(X_test_vecs)"
      ],
      "execution_count": null,
      "outputs": [
        {
          "output_type": "stream",
          "text": [
            "[[-0.11954954  0.1537262  -0.08558087 ...  0.09400881 -0.08444931\n",
            "  -0.07666687]\n",
            " [ 0.06019749  0.00480916  0.06774399 ... -0.05751166  0.04855407\n",
            "  -0.13054699]\n",
            " [ 0.14999926 -0.12594655  0.09663776 ... -0.14260794  0.03878479\n",
            "   0.08426335]\n",
            " ...\n",
            " [-0.06356598 -0.00905482 -0.07411133 ...  0.03857066 -0.07523076\n",
            "   0.11108229]\n",
            " [ 0.14241725 -0.1276752   0.09787145 ... -0.13880822  0.03496119\n",
            "   0.09225871]\n",
            " [ 0.06076735 -0.00297026  0.07164863 ... -0.04501938  0.07183451\n",
            "  -0.11815221]]\n",
            "[[-0.00317157 -0.05532013 -0.00523854 ... -0.04469575 -0.07547715\n",
            "   0.12759933]\n",
            " [-0.07092148  0.00448144 -0.07834631 ...  0.04256755 -0.08728496\n",
            "   0.10260331]\n",
            " [-0.10848095  0.16899341 -0.08719121 ...  0.08135311 -0.11681359\n",
            "  -0.05819976]\n",
            " ...\n",
            " [ 0.00651818  0.10738019  0.00290288 ...  0.00656187 -0.02730782\n",
            "  -0.13188297]\n",
            " [-0.01216903 -0.05655323 -0.0328498  ... -0.00169127 -0.04251923\n",
            "   0.13646832]\n",
            " [ 0.04651064  0.02156485  0.0367122  ... -0.01024398  0.09366239\n",
            "  -0.09285373]]\n"
          ],
          "name": "stdout"
        }
      ]
    },
    {
      "cell_type": "code",
      "metadata": {
        "colab": {
          "base_uri": "https://localhost:8080/",
          "height": 539
        },
        "id": "5mR1FR1NhVKD",
        "outputId": "6784cb54-46be-4fe3-c47f-a80cdd0e1394"
      },
      "source": [
        "from sklearn.metrics.pairwise import cosine_similarity\n",
        "\n",
        "def _most_similarity(embed_vecs, vec, labels):\n",
        "  sim = cosine_similarity(embed_vecs, vec)\n",
        "  #print(sim)\n",
        "  sim = np.squeeze(sim, axis = 1)\n",
        "  #print(sim)\n",
        "  argmax = np.argsort(sim)[::-1][:1]\n",
        "  print(np.argsort(sim))\n",
        "  print(argmax)\n",
        "  label = [labels[idx] for idx in argmax][0]\n",
        "  return label\n",
        "\n",
        "# Lấy ngẫu nhiên một bức ảnh trong test\n",
        "vec = X_test_vecs[11].reshape(1, -1)\n",
        "print(vec)\n",
        "# Tìm kiếm ảnh gần nhất\n",
        "_most_similarity(X_train_vecs, vec, y_train)"
      ],
      "execution_count": null,
      "outputs": [
        {
          "output_type": "stream",
          "text": [
            "[[-0.10198195  0.01891373 -0.03995753 -0.03126528  0.03406004  0.12153162\n",
            "  -0.22810574  0.11938945  0.08716784  0.04238087  0.08364395  0.00182744\n",
            "  -0.08855332  0.03732689 -0.03839699  0.05742324  0.10394975 -0.0994033\n",
            "   0.06230547 -0.12553385  0.14651035  0.09402804 -0.10167943  0.07665204\n",
            "  -0.05328413  0.09440935  0.04773529 -0.08056636 -0.08337552 -0.08992729\n",
            "   0.09883367  0.12966703  0.00346717 -0.00072257  0.12620616 -0.14960973\n",
            "  -0.01529338  0.01280139 -0.0137792  -0.01871005  0.05198076 -0.04074344\n",
            "   0.09817506 -0.02225562  0.02818328  0.1187901   0.00270364 -0.12380289\n",
            "  -0.14257649 -0.13723542 -0.08699587  0.15728574  0.00069981 -0.08951652\n",
            "  -0.00656995 -0.11785878  0.08520347 -0.14822945  0.05208645 -0.10638969\n",
            "   0.09602345 -0.118255    0.14629723 -0.06421918  0.04348839  0.00436473\n",
            "   0.16100512  0.0788284   0.01693978  0.04275547 -0.18311399 -0.10234705\n",
            "   0.10082828  0.11655971  0.05040074 -0.07443805  0.00669349 -0.13321783\n",
            "   0.15690416 -0.0889652  -0.16470253 -0.07656886 -0.1411915  -0.07078129\n",
            "   0.08020575  0.00437733  0.12055421  0.08378629  0.04253525  0.03689872\n",
            "   0.04186656  0.06683785  0.1105217  -0.11959665 -0.02524316 -0.06329021\n",
            "   0.04166154 -0.05112632  0.1145952  -0.0161661  -0.00649441  0.09606873\n",
            "  -0.10805169 -0.13826337  0.05450745 -0.01953729  0.09664633  0.10406516\n",
            "  -0.04754085 -0.04722865  0.02663126 -0.01771774 -0.01933229 -0.10005123\n",
            "  -0.10732918  0.06302422  0.12106714 -0.02278621 -0.01069558  0.09443806\n",
            "  -0.11098699 -0.05471637  0.05750459 -0.02743691 -0.00903621  0.05338241\n",
            "   0.00624733  0.08696947]]\n",
            "[  1  52  47  48  31 119  55  92  99  11  38  45  46  94  62  75  82  41\n",
            "  68  28  30  95  51  84 115  27 114  17  63   9  35  69 110  50 116   2\n",
            "  26  42  10  18  78  66  70  90  61 118 113  13  83  23  72  65  16  79\n",
            "  81 103  74 108   0   3 111  64  67  89 106  40  57  14  91  37  54  32\n",
            "  12   7  86  36  21  93  73  33  58 107  15   6 102 104  19  80   8  20\n",
            "  98  22   5 109  49 101  39  71  76  85  43  77  88  60  44  53   4  24\n",
            "  96  56  29  34 100 105 117 112  97  25  87  59]\n",
            "[59]\n"
          ],
          "name": "stdout"
        },
        {
          "output_type": "execute_result",
          "data": {
            "application/vnd.google.colaboratory.intrinsic+json": {
              "type": "string"
            },
            "text/plain": [
              "'baejun'"
            ]
          },
          "metadata": {
            "tags": []
          },
          "execution_count": 119
        }
      ]
    },
    {
      "cell_type": "code",
      "metadata": {
        "colab": {
          "base_uri": "https://localhost:8080/"
        },
        "id": "1-XTe5uViGqr",
        "outputId": "e4e94e96-4a50-4a0f-8a2e-ecd1cc57c7ba"
      },
      "source": [
        "from sklearn.metrics import accuracy_score\n",
        "y_preds = []\n",
        "for vec in X_test_vecs:\n",
        "  vec = vec.reshape(1, -1)\n",
        "  y_pred = _most_similarity(X_train_vecs, vec, y_train)\n",
        "  #print(y_pred)\n",
        "  y_preds.append(y_pred)\n",
        "\n",
        "print(accuracy_score(y_preds, y_test))"
      ],
      "execution_count": null,
      "outputs": [
        {
          "output_type": "stream",
          "text": [
            "baejun\n",
            "baejun\n",
            "sontung\n",
            "thaotam\n",
            "sontung\n",
            "khanh\n",
            "thaotam\n",
            "khanh\n",
            "chipu\n",
            "chipu\n",
            "thaotam\n",
            "baejun\n",
            "chipu\n",
            "sontung\n",
            "sontung\n",
            "chipu\n",
            "thaotam\n",
            "khanh\n",
            "baejun\n",
            "baejun\n",
            "baejun\n",
            "baejun\n",
            "khanh\n",
            "khanh\n",
            "chipu\n",
            "chipu\n",
            "baejun\n",
            "chipu\n",
            "baejun\n",
            "chipu\n",
            "0.6\n"
          ],
          "name": "stdout"
        }
      ]
    },
    {
      "cell_type": "code",
      "metadata": {
        "colab": {
          "base_uri": "https://localhost:8080/"
        },
        "id": "8d2M_m-4ir5W",
        "outputId": "4917dc83-6737-42f2-ce0b-8cebf64094c4"
      },
      "source": [
        "from sklearn.metrics import accuracy_score\n",
        "y_preds = []\n",
        "for vec in X_train_vecs:\n",
        "  vec = vec.reshape(1, -1)\n",
        "  y_pred = _most_similarity(X_train_vecs, vec, y_train)\n",
        "  y_preds.append(y_pred)\n",
        "\n",
        "print(accuracy_score(y_preds, y_train))"
      ],
      "execution_count": null,
      "outputs": [
        {
          "output_type": "stream",
          "text": [
            "1.0\n"
          ],
          "name": "stdout"
        }
      ]
    },
    {
      "cell_type": "code",
      "metadata": {
        "id": "tnVMP_tklLGN"
      },
      "source": [
        "z = X_test_vecs[11].reshape(-1,1)"
      ],
      "execution_count": null,
      "outputs": []
    }
  ]
}